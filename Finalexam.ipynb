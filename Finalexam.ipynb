{
 "cells": [
  {
   "cell_type": "markdown",
   "id": "5a88180f",
   "metadata": {},
   "source": [
    "# My Jupyter Notebook on IBM Watson Studio"
   ]
  },
  {
   "cell_type": "markdown",
   "id": "3f22053e",
   "metadata": {},
   "source": [
    "**Lorenzo De Marco**"
   ]
  },
  {
   "cell_type": "markdown",
   "id": "6b282c8c",
   "metadata": {},
   "source": [
    "*I'm interested in data science because I become a data scientist*"
   ]
  },
  {
   "cell_type": "markdown",
   "id": "1382648e",
   "metadata": {},
   "source": [
    "### My code simply add two variables and print the result "
   ]
  },
  {
   "cell_type": "code",
   "execution_count": 1,
   "id": "0c375b14",
   "metadata": {},
   "outputs": [
    {
     "name": "stdout",
     "output_type": "stream",
     "text": [
      "7\n"
     ]
    }
   ],
   "source": [
    "a=3\n",
    "b=4\n",
    "c=a+b\n",
    "print(c)"
   ]
  },
  {
   "cell_type": "markdown",
   "id": "abb06181",
   "metadata": {},
   "source": [
    "***\n",
    "---\n",
    "\n",
    "|hey|ciao|\n",
    "|---|----|\n",
    "|# o | ###o |\n"
   ]
  }
 ],
 "metadata": {
  "kernelspec": {
   "display_name": "Python 3",
   "language": "python",
   "name": "python3"
  },
  "language_info": {
   "codemirror_mode": {
    "name": "ipython",
    "version": 3
   },
   "file_extension": ".py",
   "mimetype": "text/x-python",
   "name": "python",
   "nbconvert_exporter": "python",
   "pygments_lexer": "ipython3",
   "version": "3.8.8"
  }
 },
 "nbformat": 4,
 "nbformat_minor": 5
}
